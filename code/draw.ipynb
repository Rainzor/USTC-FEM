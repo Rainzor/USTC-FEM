{
 "cells": [
  {
   "cell_type": "code",
   "execution_count": null,
   "metadata": {},
   "outputs": [],
   "source": [
    "import pandas as pd\n",
    "# Update the data with new values\n",
    "data_new = {\n",
    "    \"N\": [10, 20, 40, 80],\n",
    "    \"L2 norm error\": [3.404264e-03, 8.561832e-04, 2.143658e-04, 5.361168e-05],\n",
    "    \"LH1 norm error\": [1.027673e-01, 5.148407e-02, 2.571213e-02, 1.280998e-02],\n",
    "    \"L2 order\": [0.000000e+00, 1.991352e+00, 1.997845e+00, 1.999456e+00],\n",
    "    \"LH1 order\": [0.000000e+00, 9.971825e-01, 1.001677e+00, 1.005181e+00]\n",
    "}\n",
    "\n",
    "# Convert the new dictionary to a DataFrame\n",
    "df_new = pd.DataFrame(data_new)\n",
    "\n",
    "# Save the new DataFrame to a different Excel file\n",
    "excel_path_new = \"D:/norm_errors_and_orders_updated.xlsx\"\n",
    "df_new.to_excel(excel_path_new, index=False)\n",
    "\n",
    "# Show the path to the saved file\n",
    "excel_path_new\n"
   ]
  }
 ],
 "metadata": {
  "kernelspec": {
   "display_name": "base",
   "language": "python",
   "name": "python3"
  },
  "language_info": {
   "codemirror_mode": {
    "name": "ipython",
    "version": 3
   },
   "file_extension": ".py",
   "mimetype": "text/x-python",
   "name": "python",
   "nbconvert_exporter": "python",
   "pygments_lexer": "ipython3",
   "version": "3.12.4"
  }
 },
 "nbformat": 4,
 "nbformat_minor": 2
}
